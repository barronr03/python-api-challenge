{
 "cells": [
  {
   "cell_type": "markdown",
   "metadata": {},
   "source": [
    "# WeatherPy\n",
    "\n",
    "---\n",
    "\n",
    "## Starter Code to Generate Random Geographic Coordinates and a List of Cities"
   ]
  },
  {
   "cell_type": "code",
   "execution_count": 1,
   "metadata": {
    "scrolled": true
   },
   "outputs": [],
   "source": [
    "# Dependencies and Setup\n",
    "import matplotlib.pyplot as plt\n",
    "import pandas as pd\n",
    "import numpy as np\n",
    "import requests\n",
    "import time\n",
    "from scipy.stats import linregress\n",
    "\n",
    "# Impor the OpenWeatherMap API key\n",
    "from api_keys import weather_api_key\n",
    "\n",
    "# Import citipy to determine the cities based on latitude and longitude\n",
    "from citipy import citipy"
   ]
  },
  {
   "cell_type": "code",
   "execution_count": null,
   "metadata": {},
   "outputs": [],
   "source": []
  },
  {
   "cell_type": "markdown",
   "metadata": {},
   "source": [
    "### Generate the Cities List by Using the `citipy` Library"
   ]
  },
  {
   "cell_type": "code",
   "execution_count": 2,
   "metadata": {},
   "outputs": [
    {
     "name": "stdout",
     "output_type": "stream",
     "text": [
      "Number of cities in the list: 613\n"
     ]
    }
   ],
   "source": [
    "# Empty list for holding the latitude and longitude combinations\n",
    "lat_lngs = []\n",
    "\n",
    "# Empty list for holding the cities names\n",
    "cities = []\n",
    "\n",
    "# Range of latitudes and longitudes\n",
    "lat_range = (-90, 90)\n",
    "lng_range = (-180, 180)\n",
    "\n",
    "# Create a set of random lat and lng combinations\n",
    "lats = np.random.uniform(lat_range[0], lat_range[1], size=1500)\n",
    "lngs = np.random.uniform(lng_range[0], lng_range[1], size=1500)\n",
    "lat_lngs = zip(lats, lngs)\n",
    "\n",
    "# Identify nearest city for each lat, lng combination\n",
    "for lat_lng in lat_lngs:\n",
    "    city = citipy.nearest_city(lat_lng[0], lat_lng[1]).city_name\n",
    "    \n",
    "    # If the city is unique, then add it to a our cities list\n",
    "    if city not in cities:\n",
    "        cities.append(city)\n",
    "\n",
    "# Print the city count to confirm sufficient count\n",
    "print(f\"Number of cities in the list: {len(cities)}\")"
   ]
  },
  {
   "cell_type": "markdown",
   "metadata": {},
   "source": [
    "---"
   ]
  },
  {
   "cell_type": "markdown",
   "metadata": {},
   "source": [
    "## Requirement 1: Create Plots to Showcase the Relationship Between Weather Variables and Latitude\n",
    "\n",
    "### Use the OpenWeatherMap API to retrieve weather data from the cities list generated in the started code"
   ]
  },
  {
   "cell_type": "code",
   "execution_count": 3,
   "metadata": {},
   "outputs": [
    {
     "name": "stdout",
     "output_type": "stream",
     "text": [
      "Beginning Data Retrieval     \n",
      "-----------------------------\n",
      "Processing Record 1 of Set 1 | nangong\n",
      "Processing Record 2 of Set 1 | mataura\n",
      "Processing Record 3 of Set 1 | onega\n",
      "Processing Record 4 of Set 1 | ushuaia\n",
      "Processing Record 5 of Set 1 | rikitea\n",
      "Processing Record 6 of Set 1 | raymond\n",
      "Processing Record 7 of Set 1 | cayenne\n",
      "Processing Record 8 of Set 1 | maceio\n",
      "Processing Record 9 of Set 1 | upernavik\n",
      "Processing Record 10 of Set 1 | kapaa\n",
      "Processing Record 11 of Set 1 | umzimvubu\n",
      "City not found. Skipping...\n",
      "Processing Record 12 of Set 1 | rosa zarate\n",
      "Processing Record 13 of Set 1 | sitka\n",
      "Processing Record 14 of Set 1 | cidreira\n",
      "Processing Record 15 of Set 1 | hilo\n",
      "Processing Record 16 of Set 1 | chuy\n",
      "Processing Record 17 of Set 1 | matelandia\n",
      "Processing Record 18 of Set 1 | belushya guba\n",
      "City not found. Skipping...\n",
      "Processing Record 19 of Set 1 | diego de almagro\n",
      "Processing Record 20 of Set 1 | albany\n",
      "Processing Record 21 of Set 1 | cherskiy\n",
      "Processing Record 22 of Set 1 | hobart\n",
      "Processing Record 23 of Set 1 | mar del plata\n",
      "Processing Record 24 of Set 1 | castro\n",
      "Processing Record 25 of Set 1 | vysokogornyy\n",
      "Processing Record 26 of Set 1 | gumushane\n",
      "City not found. Skipping...\n",
      "Processing Record 27 of Set 1 | san patricio\n",
      "Processing Record 28 of Set 1 | kabinda\n",
      "Processing Record 29 of Set 1 | punta arenas\n",
      "Processing Record 30 of Set 1 | busselton\n",
      "Processing Record 31 of Set 1 | georgetown\n",
      "Processing Record 32 of Set 1 | morayfield\n",
      "Processing Record 33 of Set 1 | naron\n",
      "Processing Record 34 of Set 1 | nyurba\n",
      "Processing Record 35 of Set 1 | saint anthony\n",
      "Processing Record 36 of Set 1 | yellowknife\n",
      "Processing Record 37 of Set 1 | ishigaki\n",
      "Processing Record 38 of Set 1 | coquimbo\n",
      "Processing Record 39 of Set 1 | laguna\n",
      "Processing Record 40 of Set 1 | kavieng\n",
      "Processing Record 41 of Set 1 | andevoranto\n",
      "City not found. Skipping...\n",
      "Processing Record 42 of Set 1 | norman wells\n",
      "Processing Record 43 of Set 1 | avera\n",
      "Processing Record 44 of Set 1 | khromtau\n",
      "Processing Record 45 of Set 1 | cape town\n",
      "Processing Record 46 of Set 1 | illoqqortoormiut\n",
      "City not found. Skipping...\n",
      "Processing Record 47 of Set 1 | attawapiskat\n",
      "City not found. Skipping...\n",
      "Processing Record 48 of Set 1 | arraial do cabo\n",
      "Processing Record 49 of Set 1 | tuatapere\n",
      "Processing Record 50 of Set 1 | thompson\n",
      "Processing Record 0 of Set 2 | provideniya\n",
      "Processing Record 1 of Set 2 | malakal\n",
      "Processing Record 2 of Set 2 | neiafu\n",
      "Processing Record 3 of Set 2 | kruisfontein\n",
      "Processing Record 4 of Set 2 | taolanaro\n",
      "City not found. Skipping...\n",
      "Processing Record 5 of Set 2 | lipin bor\n",
      "Processing Record 6 of Set 2 | kapoeta\n",
      "Processing Record 7 of Set 2 | nhulunbuy\n",
      "Processing Record 8 of Set 2 | dukat\n",
      "Processing Record 9 of Set 2 | marcona\n",
      "City not found. Skipping...\n",
      "Processing Record 10 of Set 2 | lebu\n",
      "Processing Record 11 of Set 2 | haines junction\n",
      "Processing Record 12 of Set 2 | bredasdorp\n",
      "Processing Record 13 of Set 2 | otjimbingwe\n",
      "Processing Record 14 of Set 2 | bethel\n",
      "Processing Record 15 of Set 2 | turukhansk\n",
      "Processing Record 16 of Set 2 | kabanjahe\n",
      "Processing Record 17 of Set 2 | hermanus\n",
      "Processing Record 18 of Set 2 | asyut\n",
      "Processing Record 19 of Set 2 | talnakh\n",
      "Processing Record 20 of Set 2 | pasni\n",
      "Processing Record 21 of Set 2 | sicamous\n",
      "Processing Record 22 of Set 2 | nikolskoye\n",
      "Processing Record 23 of Set 2 | birao\n",
      "Processing Record 24 of Set 2 | adilcevaz\n",
      "Processing Record 25 of Set 2 | vila velha\n",
      "Processing Record 26 of Set 2 | dzhebariki-khaya\n",
      "Processing Record 27 of Set 2 | saint-philippe\n",
      "Processing Record 28 of Set 2 | baruun-urt\n",
      "Processing Record 29 of Set 2 | viligili\n",
      "City not found. Skipping...\n",
      "Processing Record 30 of Set 2 | mahon\n",
      "Processing Record 31 of Set 2 | antsohihy\n",
      "Processing Record 32 of Set 2 | tuktoyaktuk\n",
      "Processing Record 33 of Set 2 | samusu\n",
      "City not found. Skipping...\n",
      "Processing Record 34 of Set 2 | fairbanks\n",
      "Processing Record 35 of Set 2 | salta\n",
      "Processing Record 36 of Set 2 | tiksi\n",
      "Processing Record 37 of Set 2 | new norfolk\n",
      "Processing Record 38 of Set 2 | amderma\n",
      "City not found. Skipping...\n",
      "Processing Record 39 of Set 2 | mitu\n",
      "Processing Record 40 of Set 2 | nizhneyansk\n",
      "City not found. Skipping...\n",
      "Processing Record 41 of Set 2 | rawson\n",
      "Processing Record 42 of Set 2 | porangatu\n",
      "Processing Record 43 of Set 2 | makat\n",
      "Processing Record 44 of Set 2 | ostrovnoy\n",
      "Processing Record 45 of Set 2 | stillwater\n",
      "Processing Record 46 of Set 2 | ilulissat\n",
      "Processing Record 47 of Set 2 | severo-kurilsk\n",
      "Processing Record 48 of Set 2 | ponta do sol\n",
      "Processing Record 49 of Set 2 | gold coast\n",
      "Processing Record 0 of Set 3 | jamestown\n",
      "Processing Record 1 of Set 3 | saldanha\n",
      "Processing Record 2 of Set 3 | los llanos de aridane\n",
      "Processing Record 3 of Set 3 | kaeo\n",
      "Processing Record 4 of Set 3 | christchurch\n",
      "Processing Record 5 of Set 3 | dikson\n",
      "Processing Record 6 of Set 3 | barrow\n",
      "Processing Record 7 of Set 3 | salalah\n",
      "Processing Record 8 of Set 3 | jalu\n",
      "Processing Record 9 of Set 3 | bluff\n",
      "Processing Record 10 of Set 3 | strezhevoy\n",
      "Processing Record 11 of Set 3 | khatanga\n",
      "Processing Record 12 of Set 3 | ponta delgada\n",
      "Processing Record 13 of Set 3 | prince rupert\n",
      "Processing Record 14 of Set 3 | kununurra\n",
      "Processing Record 15 of Set 3 | airai\n",
      "Processing Record 16 of Set 3 | constitucion\n",
      "Processing Record 17 of Set 3 | naze\n",
      "Processing Record 18 of Set 3 | grand river south east\n",
      "City not found. Skipping...\n",
      "Processing Record 19 of Set 3 | varzea grande\n",
      "Processing Record 20 of Set 3 | beringovskiy\n",
      "Processing Record 21 of Set 3 | antalaha\n",
      "Processing Record 22 of Set 3 | lagoa\n",
      "Processing Record 23 of Set 3 | hithadhoo\n",
      "Processing Record 24 of Set 3 | el cope\n",
      "Processing Record 25 of Set 3 | hasaki\n",
      "Processing Record 26 of Set 3 | tarakan\n",
      "Processing Record 27 of Set 3 | harper\n",
      "Processing Record 28 of Set 3 | inhambane\n",
      "Processing Record 29 of Set 3 | kaitangata\n",
      "Processing Record 30 of Set 3 | carnarvon\n",
      "Processing Record 31 of Set 3 | half moon bay\n",
      "Processing Record 32 of Set 3 | cururupu\n",
      "Processing Record 33 of Set 3 | avarua\n",
      "Processing Record 34 of Set 3 | bambous virieux\n",
      "Processing Record 35 of Set 3 | atuona\n",
      "Processing Record 36 of Set 3 | monywa\n",
      "Processing Record 37 of Set 3 | fortuna\n",
      "Processing Record 38 of Set 3 | biak\n",
      "Processing Record 39 of Set 3 | oneonta\n",
      "Processing Record 40 of Set 3 | livingston\n",
      "Processing Record 41 of Set 3 | puerto ayora\n",
      "Processing Record 42 of Set 3 | isangel\n",
      "Processing Record 43 of Set 3 | hami\n",
      "Processing Record 44 of Set 3 | campo maior\n",
      "Processing Record 45 of Set 3 | saiha\n",
      "Processing Record 46 of Set 3 | aksha\n",
      "Processing Record 47 of Set 3 | necochea\n",
      "Processing Record 48 of Set 3 | russell\n",
      "Processing Record 49 of Set 3 | dossor\n",
      "Processing Record 0 of Set 4 | pokrovka\n",
      "Processing Record 1 of Set 4 | yinchuan\n",
      "Processing Record 2 of Set 4 | venado tuerto\n",
      "Processing Record 3 of Set 4 | saint george\n",
      "Processing Record 4 of Set 4 | wanning\n",
      "Processing Record 5 of Set 4 | kirakira\n",
      "Processing Record 6 of Set 4 | bengkulu\n",
      "Processing Record 7 of Set 4 | mayor pablo lagerenza\n",
      "Processing Record 8 of Set 4 | vaini\n",
      "Processing Record 9 of Set 4 | homer\n",
      "Processing Record 10 of Set 4 | fort nelson\n",
      "Processing Record 11 of Set 4 | quzhou\n",
      "Processing Record 12 of Set 4 | zhanaozen\n",
      "Processing Record 13 of Set 4 | kaseda\n",
      "Processing Record 14 of Set 4 | codrington\n",
      "Processing Record 15 of Set 4 | nouadhibou\n",
      "Processing Record 16 of Set 4 | vanimo\n",
      "Processing Record 17 of Set 4 | sao goncalo\n",
      "Processing Record 18 of Set 4 | kermanshah\n",
      "Processing Record 19 of Set 4 | bud\n",
      "Processing Record 20 of Set 4 | grand forks\n",
      "Processing Record 21 of Set 4 | sao filipe\n",
      "Processing Record 22 of Set 4 | makakilo city\n",
      "Processing Record 23 of Set 4 | inverbervie\n",
      "Processing Record 24 of Set 4 | buraydah\n",
      "Processing Record 25 of Set 4 | taseyevo\n",
      "Processing Record 26 of Set 4 | port alfred\n",
      "Processing Record 27 of Set 4 | flin flon\n",
      "Processing Record 28 of Set 4 | axim\n",
      "Processing Record 29 of Set 4 | kirando\n",
      "Processing Record 30 of Set 4 | tahe\n",
      "Processing Record 31 of Set 4 | tessalit\n",
      "Processing Record 32 of Set 4 | kempele\n",
      "Processing Record 33 of Set 4 | fethiye\n",
      "Processing Record 34 of Set 4 | geraldton\n",
      "Processing Record 35 of Set 4 | oxapampa\n",
      "Processing Record 36 of Set 4 | aklavik\n",
      "Processing Record 37 of Set 4 | barentsburg\n",
      "City not found. Skipping...\n",
      "Processing Record 38 of Set 4 | bathsheba\n"
     ]
    },
    {
     "name": "stdout",
     "output_type": "stream",
     "text": [
      "Processing Record 39 of Set 4 | iqaluit\n",
      "Processing Record 40 of Set 4 | ribeira grande\n",
      "Processing Record 41 of Set 4 | yarmouth\n",
      "Processing Record 42 of Set 4 | tual\n",
      "Processing Record 43 of Set 4 | houma\n",
      "Processing Record 44 of Set 4 | tanout\n",
      "Processing Record 45 of Set 4 | bandarbeyla\n",
      "Processing Record 46 of Set 4 | bayan\n",
      "Processing Record 47 of Set 4 | qaanaaq\n",
      "Processing Record 48 of Set 4 | victoria\n",
      "Processing Record 49 of Set 4 | saint-pierre\n",
      "Processing Record 0 of Set 5 | longyearbyen\n",
      "Processing Record 1 of Set 5 | ocampo\n",
      "Processing Record 2 of Set 5 | arambagh\n",
      "Processing Record 3 of Set 5 | santa eulalia del rio\n",
      "City not found. Skipping...\n",
      "Processing Record 4 of Set 5 | mawlaik\n",
      "Processing Record 5 of Set 5 | palabuhanratu\n",
      "City not found. Skipping...\n",
      "Processing Record 6 of Set 5 | kasongo-lunda\n",
      "Processing Record 7 of Set 5 | mednogorsk\n",
      "Processing Record 8 of Set 5 | morondava\n",
      "Processing Record 9 of Set 5 | moree\n",
      "Processing Record 10 of Set 5 | yeppoon\n",
      "Processing Record 11 of Set 5 | saleaula\n",
      "City not found. Skipping...\n",
      "Processing Record 12 of Set 5 | west bay\n",
      "Processing Record 13 of Set 5 | vestmanna\n",
      "Processing Record 14 of Set 5 | zheleznodorozhnyy\n",
      "Processing Record 15 of Set 5 | cockburn town\n",
      "Processing Record 16 of Set 5 | mikuni\n",
      "Processing Record 17 of Set 5 | luderitz\n",
      "Processing Record 18 of Set 5 | chokurdakh\n",
      "Processing Record 19 of Set 5 | vaitupu\n",
      "City not found. Skipping...\n",
      "Processing Record 20 of Set 5 | katherine\n",
      "Processing Record 21 of Set 5 | ancud\n",
      "Processing Record 22 of Set 5 | khoy\n",
      "Processing Record 23 of Set 5 | byron bay\n",
      "Processing Record 24 of Set 5 | lavrentiya\n",
      "Processing Record 25 of Set 5 | fairmont\n",
      "Processing Record 26 of Set 5 | lompoc\n",
      "Processing Record 27 of Set 5 | crestview\n",
      "Processing Record 28 of Set 5 | bend\n",
      "Processing Record 29 of Set 5 | peniche\n",
      "Processing Record 30 of Set 5 | hofn\n",
      "Processing Record 31 of Set 5 | kawalu\n",
      "Processing Record 32 of Set 5 | mponela\n",
      "Processing Record 33 of Set 5 | lubango\n",
      "Processing Record 34 of Set 5 | hillsborough\n",
      "Processing Record 35 of Set 5 | saskylakh\n",
      "Processing Record 36 of Set 5 | porto velho\n",
      "Processing Record 37 of Set 5 | benguela\n",
      "Processing Record 38 of Set 5 | santa rosa\n",
      "Processing Record 39 of Set 5 | esperance\n",
      "Processing Record 40 of Set 5 | yar-sale\n",
      "Processing Record 41 of Set 5 | mangaratiba\n",
      "Processing Record 42 of Set 5 | vanavara\n",
      "Processing Record 43 of Set 5 | san carlos de bariloche\n",
      "Processing Record 44 of Set 5 | niquelandia\n",
      "Processing Record 45 of Set 5 | butaritari\n",
      "Processing Record 46 of Set 5 | pochutla\n",
      "Processing Record 47 of Set 5 | susanville\n",
      "Processing Record 48 of Set 5 | petauke\n",
      "Processing Record 49 of Set 5 | caravelas\n",
      "Processing Record 0 of Set 6 | vila\n",
      "Processing Record 1 of Set 6 | rio gallegos\n",
      "Processing Record 2 of Set 6 | migori\n",
      "Processing Record 3 of Set 6 | moose factory\n",
      "Processing Record 4 of Set 6 | hamilton\n",
      "Processing Record 5 of Set 6 | ahipara\n",
      "Processing Record 6 of Set 6 | oranjemund\n",
      "Processing Record 7 of Set 6 | morant bay\n",
      "Processing Record 8 of Set 6 | paita\n",
      "Processing Record 9 of Set 6 | maragogi\n",
      "Processing Record 10 of Set 6 | am timan\n",
      "Processing Record 11 of Set 6 | dong hoi\n",
      "Processing Record 12 of Set 6 | port elizabeth\n",
      "Processing Record 13 of Set 6 | black forest\n",
      "Processing Record 14 of Set 6 | havelock\n",
      "Processing Record 15 of Set 6 | chute-aux-outardes\n",
      "Processing Record 16 of Set 6 | mackenzie\n",
      "Processing Record 17 of Set 6 | haifa\n",
      "Processing Record 18 of Set 6 | te anau\n",
      "Processing Record 19 of Set 6 | port hardy\n",
      "Processing Record 20 of Set 6 | san juan\n",
      "Processing Record 21 of Set 6 | marihatag\n",
      "Processing Record 22 of Set 6 | tsihombe\n",
      "City not found. Skipping...\n",
      "Processing Record 23 of Set 6 | korla\n",
      "Processing Record 24 of Set 6 | rajgarh\n",
      "Processing Record 25 of Set 6 | madison\n",
      "Processing Record 26 of Set 6 | san quintin\n",
      "Processing Record 27 of Set 6 | boguchany\n",
      "Processing Record 28 of Set 6 | gladstone\n",
      "Processing Record 29 of Set 6 | henties bay\n",
      "Processing Record 30 of Set 6 | nipawin\n",
      "Processing Record 31 of Set 6 | shenjiamen\n",
      "Processing Record 32 of Set 6 | carmagnola\n",
      "Processing Record 33 of Set 6 | basco\n",
      "Processing Record 34 of Set 6 | pauini\n",
      "Processing Record 35 of Set 6 | sembe\n",
      "Processing Record 36 of Set 6 | kalmar\n",
      "Processing Record 37 of Set 6 | champerico\n",
      "Processing Record 38 of Set 6 | tasiilaq\n",
      "Processing Record 39 of Set 6 | serebryansk\n",
      "Processing Record 40 of Set 6 | faanui\n",
      "Processing Record 41 of Set 6 | manica\n",
      "Processing Record 42 of Set 6 | nanortalik\n",
      "Processing Record 43 of Set 6 | vila franca do campo\n",
      "Processing Record 44 of Set 6 | tabiauea\n",
      "City not found. Skipping...\n",
      "Processing Record 45 of Set 6 | wawa\n",
      "Processing Record 46 of Set 6 | nichinan\n",
      "Processing Record 47 of Set 6 | kulunda\n",
      "Processing Record 48 of Set 6 | aleksandrovka\n",
      "Processing Record 49 of Set 6 | moses lake\n",
      "Processing Record 0 of Set 7 | del rio\n",
      "Processing Record 1 of Set 7 | cafelandia\n",
      "Processing Record 2 of Set 7 | raudeberg\n",
      "Processing Record 3 of Set 7 | paoua\n",
      "Processing Record 4 of Set 7 | khonuu\n",
      "City not found. Skipping...\n",
      "Processing Record 5 of Set 7 | borujerd\n",
      "Processing Record 6 of Set 7 | cabo san lucas\n",
      "Processing Record 7 of Set 7 | vardo\n",
      "Processing Record 8 of Set 7 | pisco\n",
      "Processing Record 9 of Set 7 | panzhihua\n",
      "Processing Record 10 of Set 7 | puerto gaitan\n",
      "Processing Record 11 of Set 7 | navahrudak\n",
      "Processing Record 12 of Set 7 | kahului\n",
      "Processing Record 13 of Set 7 | two rivers\n",
      "Processing Record 14 of Set 7 | tumannyy\n",
      "City not found. Skipping...\n",
      "Processing Record 15 of Set 7 | araouane\n",
      "Processing Record 16 of Set 7 | hohhot\n",
      "Processing Record 17 of Set 7 | husavik\n",
      "Processing Record 18 of Set 7 | rungata\n",
      "City not found. Skipping...\n",
      "Processing Record 19 of Set 7 | atyrau\n",
      "Processing Record 20 of Set 7 | shipitsyno\n",
      "Processing Record 21 of Set 7 | urucara\n",
      "Processing Record 22 of Set 7 | daru\n",
      "Processing Record 23 of Set 7 | ibra\n",
      "Processing Record 24 of Set 7 | gornopravdinsk\n",
      "Processing Record 25 of Set 7 | fomboni\n",
      "Processing Record 26 of Set 7 | soyo\n",
      "Processing Record 27 of Set 7 | pundaguitan\n",
      "Processing Record 28 of Set 7 | heihe\n",
      "Processing Record 29 of Set 7 | nome\n",
      "Processing Record 30 of Set 7 | gamba\n",
      "Processing Record 31 of Set 7 | dicabisagan\n",
      "Processing Record 32 of Set 7 | pemangkat\n",
      "Processing Record 33 of Set 7 | guarapuava\n",
      "Processing Record 34 of Set 7 | catamarca\n",
      "Processing Record 35 of Set 7 | santiago de cao\n",
      "Processing Record 36 of Set 7 | mount isa\n",
      "Processing Record 37 of Set 7 | katobu\n",
      "Processing Record 38 of Set 7 | emba\n",
      "Processing Record 39 of Set 7 | palasbari\n",
      "Processing Record 40 of Set 7 | brand-erbisdorf\n",
      "Processing Record 41 of Set 7 | mahebourg\n",
      "Processing Record 42 of Set 7 | waingapu\n",
      "Processing Record 43 of Set 7 | numan\n",
      "Processing Record 44 of Set 7 | bantry\n",
      "Processing Record 45 of Set 7 | richards bay\n",
      "Processing Record 46 of Set 7 | mogoytuy\n",
      "Processing Record 47 of Set 7 | the valley\n",
      "Processing Record 48 of Set 7 | qasigiannguit\n",
      "Processing Record 49 of Set 7 | karpogory\n",
      "Processing Record 0 of Set 8 | novaya lyada\n",
      "Processing Record 1 of Set 8 | palmer\n",
      "Processing Record 2 of Set 8 | satitoa\n",
      "City not found. Skipping...\n",
      "Processing Record 3 of Set 8 | kisiwani\n",
      "Processing Record 4 of Set 8 | cabadiangan\n",
      "Processing Record 5 of Set 8 | leningradskiy\n",
      "Processing Record 6 of Set 8 | pevek\n",
      "Processing Record 7 of Set 8 | ayan\n",
      "Processing Record 8 of Set 8 | tumut\n",
      "Processing Record 9 of Set 8 | portland\n",
      "Processing Record 10 of Set 8 | bela\n",
      "Processing Record 11 of Set 8 | magdagachi\n",
      "Processing Record 12 of Set 8 | high level\n",
      "Processing Record 13 of Set 8 | yuanping\n",
      "Processing Record 14 of Set 8 | ilyich\n",
      "Processing Record 15 of Set 8 | arlit\n",
      "Processing Record 16 of Set 8 | batticaloa\n",
      "Processing Record 17 of Set 8 | narsaq\n",
      "Processing Record 18 of Set 8 | ulaangom\n",
      "Processing Record 19 of Set 8 | zhaotong\n",
      "Processing Record 20 of Set 8 | kodiak\n",
      "Processing Record 21 of Set 8 | srednekolymsk\n",
      "Processing Record 22 of Set 8 | taoudenni\n",
      "Processing Record 23 of Set 8 | nikolayevskaya\n",
      "Processing Record 24 of Set 8 | mahibadhoo\n",
      "Processing Record 25 of Set 8 | santa marta\n",
      "Processing Record 26 of Set 8 | torbay\n",
      "Processing Record 27 of Set 8 | agirish\n",
      "Processing Record 28 of Set 8 | beloha\n",
      "Processing Record 29 of Set 8 | emerald\n",
      "Processing Record 30 of Set 8 | mount gambier\n",
      "Processing Record 31 of Set 8 | enid\n"
     ]
    },
    {
     "name": "stdout",
     "output_type": "stream",
     "text": [
      "Processing Record 32 of Set 8 | bubaque\n",
      "Processing Record 33 of Set 8 | marsh harbour\n",
      "Processing Record 34 of Set 8 | shumerlya\n",
      "Processing Record 35 of Set 8 | chumikan\n",
      "Processing Record 36 of Set 8 | vredendal\n",
      "Processing Record 37 of Set 8 | sayyan\n",
      "Processing Record 38 of Set 8 | mandalgovi\n",
      "Processing Record 39 of Set 8 | kudahuvadhoo\n",
      "Processing Record 40 of Set 8 | kazalinsk\n",
      "City not found. Skipping...\n",
      "Processing Record 41 of Set 8 | chernyshevskiy\n",
      "Processing Record 42 of Set 8 | abu kamal\n",
      "Processing Record 43 of Set 8 | hornepayne\n",
      "Processing Record 44 of Set 8 | trikerion\n",
      "City not found. Skipping...\n",
      "Processing Record 45 of Set 8 | kutum\n",
      "Processing Record 46 of Set 8 | redding\n",
      "Processing Record 47 of Set 8 | ocos\n",
      "Processing Record 48 of Set 8 | helong\n",
      "Processing Record 49 of Set 8 | souillac\n",
      "Processing Record 0 of Set 9 | qunduz\n",
      "Processing Record 1 of Set 9 | shadegan\n",
      "Processing Record 2 of Set 9 | almansa\n",
      "Processing Record 3 of Set 9 | halalo\n",
      "City not found. Skipping...\n",
      "Processing Record 4 of Set 9 | vestmannaeyjar\n",
      "Processing Record 5 of Set 9 | yulara\n",
      "Processing Record 6 of Set 9 | marzuq\n",
      "Processing Record 7 of Set 9 | juan aldama\n",
      "Processing Record 8 of Set 9 | cantapoy\n",
      "Processing Record 9 of Set 9 | nanhai\n",
      "Processing Record 10 of Set 9 | san-pedro\n",
      "Processing Record 11 of Set 9 | contamana\n",
      "Processing Record 12 of Set 9 | vilyuysk\n",
      "Processing Record 13 of Set 9 | tortoli\n",
      "Processing Record 14 of Set 9 | santa pola\n",
      "Processing Record 15 of Set 9 | maroua\n",
      "Processing Record 16 of Set 9 | zemio\n",
      "Processing Record 17 of Set 9 | nuevitas\n",
      "Processing Record 18 of Set 9 | pontianak\n",
      "Processing Record 19 of Set 9 | del carmen\n",
      "Processing Record 20 of Set 9 | clyde river\n",
      "Processing Record 21 of Set 9 | namibe\n",
      "Processing Record 22 of Set 9 | marigot\n",
      "Processing Record 23 of Set 9 | kropotkin\n",
      "Processing Record 24 of Set 9 | kaposvar\n",
      "Processing Record 25 of Set 9 | murino\n",
      "Processing Record 26 of Set 9 | ballina\n",
      "Processing Record 27 of Set 9 | ciudad bolivar\n",
      "Processing Record 28 of Set 9 | casabianca\n",
      "Processing Record 29 of Set 9 | sentyabrskiy\n",
      "City not found. Skipping...\n",
      "Processing Record 30 of Set 9 | puerto quijarro\n",
      "Processing Record 31 of Set 9 | alice springs\n",
      "Processing Record 32 of Set 9 | saint-paul\n",
      "Processing Record 33 of Set 9 | labuhan\n",
      "Processing Record 34 of Set 9 | lorengau\n",
      "Processing Record 35 of Set 9 | lozova\n",
      "Processing Record 36 of Set 9 | westport\n",
      "Processing Record 37 of Set 9 | dwarka\n",
      "Processing Record 38 of Set 9 | pangnirtung\n",
      "Processing Record 39 of Set 9 | yumen\n",
      "Processing Record 40 of Set 9 | khasan\n",
      "Processing Record 41 of Set 9 | iwanai\n",
      "Processing Record 42 of Set 9 | saint-francois\n",
      "Processing Record 43 of Set 9 | yerbogachen\n",
      "Processing Record 44 of Set 9 | moratuwa\n",
      "Processing Record 45 of Set 9 | makung\n",
      "City not found. Skipping...\n",
      "Processing Record 46 of Set 9 | amapa\n",
      "Processing Record 47 of Set 9 | invermere\n",
      "Processing Record 48 of Set 9 | atambua\n",
      "Processing Record 49 of Set 9 | kabompo\n",
      "Processing Record 0 of Set 10 | la ronge\n",
      "Processing Record 1 of Set 10 | asau\n",
      "Processing Record 2 of Set 10 | sangar\n",
      "Processing Record 3 of Set 10 | broken hill\n",
      "Processing Record 4 of Set 10 | sur\n",
      "Processing Record 5 of Set 10 | sao felix do xingu\n",
      "Processing Record 6 of Set 10 | turbat\n",
      "Processing Record 7 of Set 10 | puerto del rosario\n",
      "Processing Record 8 of Set 10 | san cristobal\n",
      "Processing Record 9 of Set 10 | havre-saint-pierre\n",
      "Processing Record 10 of Set 10 | natchez\n",
      "Processing Record 11 of Set 10 | porto novo\n",
      "Processing Record 12 of Set 10 | guerrero negro\n",
      "Processing Record 13 of Set 10 | dunedin\n",
      "Processing Record 14 of Set 10 | abu jubayhah\n",
      "City not found. Skipping...\n",
      "Processing Record 15 of Set 10 | chapais\n",
      "Processing Record 16 of Set 10 | adrar\n",
      "Processing Record 17 of Set 10 | abengourou\n",
      "Processing Record 18 of Set 10 | east london\n",
      "Processing Record 19 of Set 10 | barbar\n",
      "City not found. Skipping...\n",
      "Processing Record 20 of Set 10 | yaan\n",
      "Processing Record 21 of Set 10 | namatanai\n",
      "Processing Record 22 of Set 10 | atar\n",
      "Processing Record 23 of Set 10 | raga\n",
      "Processing Record 24 of Set 10 | mangrol\n",
      "Processing Record 25 of Set 10 | kearney\n",
      "Processing Record 26 of Set 10 | ust-omchug\n",
      "Processing Record 27 of Set 10 | srandakan\n",
      "Processing Record 28 of Set 10 | tshikapa\n",
      "Processing Record 29 of Set 10 | nikolayevsk-na-amure\n",
      "Processing Record 30 of Set 10 | san policarpo\n",
      "Processing Record 31 of Set 10 | ngong\n",
      "Processing Record 32 of Set 10 | praia\n",
      "Processing Record 33 of Set 10 | jasper\n",
      "Processing Record 34 of Set 10 | skalistyy\n",
      "City not found. Skipping...\n",
      "Processing Record 35 of Set 10 | huarmey\n",
      "Processing Record 36 of Set 10 | anadyr\n",
      "Processing Record 37 of Set 10 | lufilufi\n",
      "Processing Record 38 of Set 10 | sovetskaya gavan\n",
      "Processing Record 39 of Set 10 | eravur\n",
      "Processing Record 40 of Set 10 | alta floresta\n",
      "Processing Record 41 of Set 10 | iskele\n",
      "Processing Record 42 of Set 10 | coro\n",
      "Processing Record 43 of Set 10 | crab hill\n",
      "City not found. Skipping...\n",
      "Processing Record 44 of Set 10 | ziro\n",
      "Processing Record 45 of Set 10 | calama\n",
      "Processing Record 46 of Set 10 | moindou\n",
      "Processing Record 47 of Set 10 | mys shmidta\n",
      "City not found. Skipping...\n",
      "Processing Record 48 of Set 10 | yablonovo\n",
      "Processing Record 49 of Set 10 | deputatskiy\n",
      "Processing Record 0 of Set 11 | nouakchott\n",
      "Processing Record 1 of Set 11 | pringsewu\n",
      "Processing Record 2 of Set 11 | novyy urengoy\n",
      "Processing Record 3 of Set 11 | havoysund\n",
      "Processing Record 4 of Set 11 | caceres\n",
      "Processing Record 5 of Set 11 | sumy\n",
      "Processing Record 6 of Set 11 | sataua\n",
      "City not found. Skipping...\n",
      "Processing Record 7 of Set 11 | rio grande\n",
      "Processing Record 8 of Set 11 | tansen\n",
      "Processing Record 9 of Set 11 | kulpahar\n",
      "Processing Record 10 of Set 11 | carndonagh\n",
      "Processing Record 11 of Set 11 | ahmadabad\n",
      "Processing Record 12 of Set 11 | sola\n",
      "Processing Record 13 of Set 11 | divnomorskoye\n",
      "Processing Record 14 of Set 11 | lazaro cardenas\n",
      "Processing Record 15 of Set 11 | uyuni\n",
      "Processing Record 16 of Set 11 | fairlie\n",
      "Processing Record 17 of Set 11 | gunjur\n",
      "Processing Record 18 of Set 11 | kampot\n",
      "Processing Record 19 of Set 11 | along\n",
      "Processing Record 20 of Set 11 | cockburn harbour\n",
      "City not found. Skipping...\n",
      "Processing Record 21 of Set 11 | razole\n",
      "Processing Record 22 of Set 11 | can\n",
      "Processing Record 23 of Set 11 | hauterive\n",
      "Processing Record 24 of Set 11 | uruzgan\n",
      "Processing Record 25 of Set 11 | komsomolskiy\n",
      "Processing Record 26 of Set 11 | chichimila\n",
      "Processing Record 27 of Set 11 | kargat\n",
      "Processing Record 28 of Set 11 | omsukchan\n",
      "Processing Record 29 of Set 11 | escanaba\n",
      "Processing Record 30 of Set 11 | nandura\n",
      "Processing Record 31 of Set 11 | dongsheng\n",
      "Processing Record 32 of Set 11 | sabang\n",
      "Processing Record 33 of Set 11 | urengoy\n",
      "Processing Record 34 of Set 11 | college\n",
      "Processing Record 35 of Set 11 | kamenka\n",
      "Processing Record 36 of Set 11 | newport\n",
      "Processing Record 37 of Set 11 | wainwright\n",
      "Processing Record 38 of Set 11 | carutapera\n",
      "Processing Record 39 of Set 11 | barmer\n",
      "Processing Record 40 of Set 11 | buala\n",
      "Processing Record 41 of Set 11 | burns lake\n",
      "Processing Record 42 of Set 11 | black river\n",
      "Processing Record 43 of Set 11 | hervey bay\n",
      "Processing Record 44 of Set 11 | puerto leguizamo\n",
      "Processing Record 45 of Set 11 | trairi\n",
      "Processing Record 46 of Set 11 | aybak\n",
      "City not found. Skipping...\n",
      "Processing Record 47 of Set 11 | iralaya\n",
      "Processing Record 48 of Set 11 | kourou\n",
      "Processing Record 49 of Set 11 | rapid valley\n",
      "Processing Record 0 of Set 12 | general roca\n",
      "Processing Record 1 of Set 12 | chiredzi\n",
      "Processing Record 2 of Set 12 | bilibino\n",
      "Processing Record 3 of Set 12 | waitati\n",
      "Processing Record 4 of Set 12 | hobyo\n",
      "Processing Record 5 of Set 12 | port blair\n",
      "Processing Record 6 of Set 12 | mariakani\n",
      "Processing Record 7 of Set 12 | macapsing\n",
      "Processing Record 8 of Set 12 | kingaroy\n",
      "Processing Record 9 of Set 12 | rocha\n",
      "Processing Record 10 of Set 12 | teguise\n",
      "Processing Record 11 of Set 12 | tautira\n",
      "Processing Record 12 of Set 12 | bradford\n",
      "Processing Record 13 of Set 12 | kalmunai\n",
      "Processing Record 14 of Set 12 | cap malheureux\n",
      "Processing Record 15 of Set 12 | tabukiniberu\n",
      "City not found. Skipping...\n",
      "Processing Record 16 of Set 12 | oussouye\n",
      "Processing Record 17 of Set 12 | muroto\n",
      "Processing Record 18 of Set 12 | walvis bay\n",
      "Processing Record 19 of Set 12 | singaraja\n"
     ]
    },
    {
     "name": "stdout",
     "output_type": "stream",
     "text": [
      "Processing Record 20 of Set 12 | makaleng\n",
      "Processing Record 21 of Set 12 | krasnoarmeysk\n",
      "Processing Record 22 of Set 12 | hailin\n",
      "Processing Record 23 of Set 12 | maracacume\n",
      "Processing Record 24 of Set 12 | nador\n",
      "Processing Record 25 of Set 12 | roald\n",
      "Processing Record 26 of Set 12 | istok\n",
      "Processing Record 27 of Set 12 | gerash\n",
      "Processing Record 28 of Set 12 | meulaboh\n",
      "Processing Record 29 of Set 12 | cabedelo\n",
      "Processing Record 30 of Set 12 | phan thiet\n",
      "Processing Record 31 of Set 12 | birjand\n",
      "Processing Record 32 of Set 12 | ampanihy\n",
      "Processing Record 33 of Set 12 | abadan\n",
      "Processing Record 34 of Set 12 | sao joao da barra\n",
      "Processing Record 35 of Set 12 | ola\n",
      "Processing Record 36 of Set 12 | sao francisco\n",
      "Processing Record 37 of Set 12 | loikaw\n",
      "Processing Record 38 of Set 12 | vaitape\n",
      "Processing Record 39 of Set 12 | gien\n",
      "Processing Record 40 of Set 12 | amahai\n",
      "Processing Record 41 of Set 12 | monrovia\n",
      "Processing Record 42 of Set 12 | the pas\n",
      "Processing Record 43 of Set 12 | fevralsk\n",
      "City not found. Skipping...\n",
      "Processing Record 44 of Set 12 | barcelos\n",
      "Processing Record 45 of Set 12 | saint-augustin\n",
      "Processing Record 46 of Set 12 | klaksvik\n",
      "Processing Record 47 of Set 12 | hambantota\n",
      "Processing Record 48 of Set 12 | praia da vitoria\n",
      "Processing Record 49 of Set 12 | arona\n",
      "Processing Record 0 of Set 13 | sinnamary\n",
      "Processing Record 1 of Set 13 | bargal\n",
      "City not found. Skipping...\n",
      "Processing Record 2 of Set 13 | matara\n",
      "Processing Record 3 of Set 13 | obama\n",
      "Processing Record 4 of Set 13 | coahuayana\n",
      "Processing Record 5 of Set 13 | formosa\n",
      "Processing Record 6 of Set 13 | rafaela\n",
      "Processing Record 7 of Set 13 | bosaso\n",
      "Processing Record 8 of Set 13 | marovoay\n",
      "Processing Record 9 of Set 13 | san miguelito\n",
      "Processing Record 10 of Set 13 | aflu\n",
      "City not found. Skipping...\n",
      "Processing Record 11 of Set 13 | ulladulla\n",
      "Processing Record 12 of Set 13 | hualmay\n",
      "-----------------------------\n",
      "Data Retrieval Complete      \n",
      "-----------------------------\n"
     ]
    }
   ],
   "source": [
    "# Set the API base URL\n",
    "url = \"http://api.openweathermap.org/data/2.5/weather?\"\n",
    "\n",
    "# Define an empty list to fetch the weather data for each city\n",
    "city_data = []\n",
    "\n",
    "# Print to logger\n",
    "print(\"Beginning Data Retrieval     \")\n",
    "print(\"-----------------------------\")\n",
    "\n",
    "# Create counters\n",
    "record_count = 1\n",
    "set_count = 1\n",
    "\n",
    "# Loop through all the cities in our list to fetch weather data\n",
    "for i, city in enumerate(cities):\n",
    "        \n",
    "    # Group cities in sets of 50 for logging purposes\n",
    "    if (i % 50 == 0 and i >= 50):\n",
    "        set_count += 1\n",
    "        record_count = 0\n",
    "\n",
    "    # Create endpoint URL with each city\n",
    "    city_url = url + \"appid=\" + weather_api_key + \"&q=\" + city + \"&units=imperial\"\n",
    "    \n",
    "    # Log the url, record, and set numbers\n",
    "    print(\"Processing Record %s of Set %s | %s\" % (record_count, set_count, city))\n",
    "\n",
    "    # Add 1 to the record count\n",
    "    record_count += 1\n",
    "\n",
    "    # Run an API request for each of the cities\n",
    "    try:\n",
    "        # Parse the JSON and retrieve data\n",
    "        city_weather = requests.get(city_url).json()\n",
    "\n",
    "        # Parse out latitude, longitude, max temp, humidity, cloudiness, wind speed, country, and date\n",
    "        city_lat = city_weather[\"coord\"][\"lat\"]\n",
    "        city_lng = city_weather[\"coord\"][\"lon\"]\n",
    "        city_max_temp = city_weather[\"main\"][\"temp_max\"]\n",
    "        city_humidity = city_weather[\"main\"][\"humidity\"]\n",
    "        city_clouds = city_weather[\"clouds\"][\"all\"]\n",
    "        city_wind = city_weather[\"wind\"][\"speed\"]\n",
    "        city_country = city_weather[\"sys\"][\"country\"]\n",
    "        city_date = city_weather[\"dt\"]\n",
    "\n",
    "        # Append the City information into city_data list\n",
    "        city_data.append({\"City\": city, \n",
    "                          \"Lat\": city_lat, \n",
    "                          \"Lng\": city_lng, \n",
    "                          \"Max Temp\": city_max_temp,\n",
    "                          \"Humidity\": city_humidity,\n",
    "                          \"Cloudiness\": city_clouds,\n",
    "                          \"Wind Speed\": city_wind,\n",
    "                          \"Country\": city_country,\n",
    "                          \"Date\": city_date})\n",
    "\n",
    "    # If an error is experienced, skip the city\n",
    "    except:\n",
    "        print(\"City not found. Skipping...\")\n",
    "        pass\n",
    "              \n",
    "# Indicate that Data Loading is complete \n",
    "print(\"-----------------------------\")\n",
    "print(\"Data Retrieval Complete      \")\n",
    "print(\"-----------------------------\")"
   ]
  },
  {
   "cell_type": "code",
   "execution_count": 4,
   "metadata": {},
   "outputs": [
    {
     "data": {
      "text/plain": [
       "City          572\n",
       "Lat           572\n",
       "Lng           572\n",
       "Max Temp      572\n",
       "Humidity      572\n",
       "Cloudiness    572\n",
       "Wind Speed    572\n",
       "Country       572\n",
       "Date          572\n",
       "dtype: int64"
      ]
     },
     "execution_count": 4,
     "metadata": {},
     "output_type": "execute_result"
    }
   ],
   "source": [
    "# Convert the cities weather data into a Pandas DataFrame\n",
    "city_data_df = pd.DataFrame(city_data)\n",
    "\n",
    "# Show Record Count\n",
    "city_data_df.count()"
   ]
  },
  {
   "cell_type": "code",
   "execution_count": 5,
   "metadata": {},
   "outputs": [
    {
     "data": {
      "text/html": [
       "<div>\n",
       "<style scoped>\n",
       "    .dataframe tbody tr th:only-of-type {\n",
       "        vertical-align: middle;\n",
       "    }\n",
       "\n",
       "    .dataframe tbody tr th {\n",
       "        vertical-align: top;\n",
       "    }\n",
       "\n",
       "    .dataframe thead th {\n",
       "        text-align: right;\n",
       "    }\n",
       "</style>\n",
       "<table border=\"1\" class=\"dataframe\">\n",
       "  <thead>\n",
       "    <tr style=\"text-align: right;\">\n",
       "      <th></th>\n",
       "      <th>City</th>\n",
       "      <th>Lat</th>\n",
       "      <th>Lng</th>\n",
       "      <th>Max Temp</th>\n",
       "      <th>Humidity</th>\n",
       "      <th>Cloudiness</th>\n",
       "      <th>Wind Speed</th>\n",
       "      <th>Country</th>\n",
       "      <th>Date</th>\n",
       "    </tr>\n",
       "  </thead>\n",
       "  <tbody>\n",
       "    <tr>\n",
       "      <th>0</th>\n",
       "      <td>nangong</td>\n",
       "      <td>37.3581</td>\n",
       "      <td>115.3744</td>\n",
       "      <td>36.19</td>\n",
       "      <td>51</td>\n",
       "      <td>13</td>\n",
       "      <td>2.57</td>\n",
       "      <td>CN</td>\n",
       "      <td>1676336040</td>\n",
       "    </tr>\n",
       "    <tr>\n",
       "      <th>1</th>\n",
       "      <td>mataura</td>\n",
       "      <td>-46.1927</td>\n",
       "      <td>168.8643</td>\n",
       "      <td>77.52</td>\n",
       "      <td>28</td>\n",
       "      <td>0</td>\n",
       "      <td>4.38</td>\n",
       "      <td>NZ</td>\n",
       "      <td>1676335842</td>\n",
       "    </tr>\n",
       "    <tr>\n",
       "      <th>2</th>\n",
       "      <td>onega</td>\n",
       "      <td>63.9061</td>\n",
       "      <td>38.1404</td>\n",
       "      <td>28.35</td>\n",
       "      <td>91</td>\n",
       "      <td>100</td>\n",
       "      <td>17.36</td>\n",
       "      <td>RU</td>\n",
       "      <td>1676336040</td>\n",
       "    </tr>\n",
       "    <tr>\n",
       "      <th>3</th>\n",
       "      <td>ushuaia</td>\n",
       "      <td>-54.8000</td>\n",
       "      <td>-68.3000</td>\n",
       "      <td>40.66</td>\n",
       "      <td>87</td>\n",
       "      <td>100</td>\n",
       "      <td>10.36</td>\n",
       "      <td>AR</td>\n",
       "      <td>1676335793</td>\n",
       "    </tr>\n",
       "    <tr>\n",
       "      <th>4</th>\n",
       "      <td>rikitea</td>\n",
       "      <td>-23.1203</td>\n",
       "      <td>-134.9692</td>\n",
       "      <td>79.45</td>\n",
       "      <td>68</td>\n",
       "      <td>100</td>\n",
       "      <td>5.77</td>\n",
       "      <td>PF</td>\n",
       "      <td>1676335767</td>\n",
       "    </tr>\n",
       "  </tbody>\n",
       "</table>\n",
       "</div>"
      ],
      "text/plain": [
       "      City      Lat       Lng  Max Temp  Humidity  Cloudiness  Wind Speed  \\\n",
       "0  nangong  37.3581  115.3744     36.19        51          13        2.57   \n",
       "1  mataura -46.1927  168.8643     77.52        28           0        4.38   \n",
       "2    onega  63.9061   38.1404     28.35        91         100       17.36   \n",
       "3  ushuaia -54.8000  -68.3000     40.66        87         100       10.36   \n",
       "4  rikitea -23.1203 -134.9692     79.45        68         100        5.77   \n",
       "\n",
       "  Country        Date  \n",
       "0      CN  1676336040  \n",
       "1      NZ  1676335842  \n",
       "2      RU  1676336040  \n",
       "3      AR  1676335793  \n",
       "4      PF  1676335767  "
      ]
     },
     "execution_count": 5,
     "metadata": {},
     "output_type": "execute_result"
    }
   ],
   "source": [
    "# Display sample data\n",
    "city_data_df.head()"
   ]
  },
  {
   "cell_type": "code",
   "execution_count": 6,
   "metadata": {},
   "outputs": [],
   "source": [
    "# Export the City_Data into a csv\n",
    "city_data_df.to_csv(\"output_data/cities.csv\", index_label=\"City_ID\")"
   ]
  },
  {
   "cell_type": "code",
   "execution_count": 7,
   "metadata": {},
   "outputs": [
    {
     "data": {
      "text/html": [
       "<div>\n",
       "<style scoped>\n",
       "    .dataframe tbody tr th:only-of-type {\n",
       "        vertical-align: middle;\n",
       "    }\n",
       "\n",
       "    .dataframe tbody tr th {\n",
       "        vertical-align: top;\n",
       "    }\n",
       "\n",
       "    .dataframe thead th {\n",
       "        text-align: right;\n",
       "    }\n",
       "</style>\n",
       "<table border=\"1\" class=\"dataframe\">\n",
       "  <thead>\n",
       "    <tr style=\"text-align: right;\">\n",
       "      <th></th>\n",
       "      <th>City</th>\n",
       "      <th>Lat</th>\n",
       "      <th>Lng</th>\n",
       "      <th>Max Temp</th>\n",
       "      <th>Humidity</th>\n",
       "      <th>Cloudiness</th>\n",
       "      <th>Wind Speed</th>\n",
       "      <th>Country</th>\n",
       "      <th>Date</th>\n",
       "    </tr>\n",
       "    <tr>\n",
       "      <th>City_ID</th>\n",
       "      <th></th>\n",
       "      <th></th>\n",
       "      <th></th>\n",
       "      <th></th>\n",
       "      <th></th>\n",
       "      <th></th>\n",
       "      <th></th>\n",
       "      <th></th>\n",
       "      <th></th>\n",
       "    </tr>\n",
       "  </thead>\n",
       "  <tbody>\n",
       "    <tr>\n",
       "      <th>0</th>\n",
       "      <td>nangong</td>\n",
       "      <td>37.3581</td>\n",
       "      <td>115.3744</td>\n",
       "      <td>36.19</td>\n",
       "      <td>51</td>\n",
       "      <td>13</td>\n",
       "      <td>2.57</td>\n",
       "      <td>CN</td>\n",
       "      <td>1676336040</td>\n",
       "    </tr>\n",
       "    <tr>\n",
       "      <th>1</th>\n",
       "      <td>mataura</td>\n",
       "      <td>-46.1927</td>\n",
       "      <td>168.8643</td>\n",
       "      <td>77.52</td>\n",
       "      <td>28</td>\n",
       "      <td>0</td>\n",
       "      <td>4.38</td>\n",
       "      <td>NZ</td>\n",
       "      <td>1676335842</td>\n",
       "    </tr>\n",
       "    <tr>\n",
       "      <th>2</th>\n",
       "      <td>onega</td>\n",
       "      <td>63.9061</td>\n",
       "      <td>38.1404</td>\n",
       "      <td>28.35</td>\n",
       "      <td>91</td>\n",
       "      <td>100</td>\n",
       "      <td>17.36</td>\n",
       "      <td>RU</td>\n",
       "      <td>1676336040</td>\n",
       "    </tr>\n",
       "    <tr>\n",
       "      <th>3</th>\n",
       "      <td>ushuaia</td>\n",
       "      <td>-54.8000</td>\n",
       "      <td>-68.3000</td>\n",
       "      <td>40.66</td>\n",
       "      <td>87</td>\n",
       "      <td>100</td>\n",
       "      <td>10.36</td>\n",
       "      <td>AR</td>\n",
       "      <td>1676335793</td>\n",
       "    </tr>\n",
       "    <tr>\n",
       "      <th>4</th>\n",
       "      <td>rikitea</td>\n",
       "      <td>-23.1203</td>\n",
       "      <td>-134.9692</td>\n",
       "      <td>79.45</td>\n",
       "      <td>68</td>\n",
       "      <td>100</td>\n",
       "      <td>5.77</td>\n",
       "      <td>PF</td>\n",
       "      <td>1676335767</td>\n",
       "    </tr>\n",
       "  </tbody>\n",
       "</table>\n",
       "</div>"
      ],
      "text/plain": [
       "            City      Lat       Lng  Max Temp  Humidity  Cloudiness  \\\n",
       "City_ID                                                               \n",
       "0        nangong  37.3581  115.3744     36.19        51          13   \n",
       "1        mataura -46.1927  168.8643     77.52        28           0   \n",
       "2          onega  63.9061   38.1404     28.35        91         100   \n",
       "3        ushuaia -54.8000  -68.3000     40.66        87         100   \n",
       "4        rikitea -23.1203 -134.9692     79.45        68         100   \n",
       "\n",
       "         Wind Speed Country        Date  \n",
       "City_ID                                  \n",
       "0              2.57      CN  1676336040  \n",
       "1              4.38      NZ  1676335842  \n",
       "2             17.36      RU  1676336040  \n",
       "3             10.36      AR  1676335793  \n",
       "4              5.77      PF  1676335767  "
      ]
     },
     "execution_count": 7,
     "metadata": {},
     "output_type": "execute_result"
    }
   ],
   "source": [
    "# Read saved data\n",
    "city_data_df = pd.read_csv(\"output_data/cities.csv\", index_col=\"City_ID\")\n",
    "\n",
    "# Display sample data\n",
    "city_data_df.head()"
   ]
  },
  {
   "cell_type": "markdown",
   "metadata": {},
   "source": [
    "### Create the Scatter Plots Requested\n",
    "\n",
    "#### Latitude Vs. Temperature"
   ]
  },
  {
   "cell_type": "code",
   "execution_count": 8,
   "metadata": {
    "tags": []
   },
   "outputs": [
    {
     "data": {
      "image/png": "[encoded data removed]",
      "text/plain": [
       "<Figure size 432x288 with 1 Axes>"
      ]
     },
     "metadata": {
      "needs_background": "light"
     },
     "output_type": "display_data"
    }
   ],
   "source": [
    "# Build scatter plot for latitude vs. temperature\n",
    "plt.scatter(city_data_df[\"Lat\"], city_data_df[\"Max Temp\"], edgecolors=\"black\")\n",
    "\n",
    "# Incorporate the other graph properties\n",
    "plt.title(\"City Latitude vs. Max Temperature (F)\")\n",
    "plt.xlabel(\"Latitude\")\n",
    "plt.ylabel(\"Max Temperature (F)\")\n",
    "plt.grid(True)\n",
    "\n",
    "# Save the figure\n",
    "plt.savefig(\"output_data/Fig1.png\")\n",
    "\n",
    "# Show plot\n",
    "plt.show()"
   ]
  },
  {
   "cell_type": "markdown",
   "metadata": {},
   "source": [
    "#### Latitude Vs. Humidity"
   ]
  },
  {
   "cell_type": "code",
   "execution_count": 9,
   "metadata": {},
   "outputs": [
    {
     "data": {
      "image/png": "[encoded data removed]",
      "text/plain": [
       "<Figure size 432x288 with 1 Axes>"
      ]
     },
     "metadata": {
      "needs_background": "light"
     },
     "output_type": "display_data"
    }
   ],
   "source": [
    "# Build the scatter plots for latitude vs. humidity\n",
    "plt.scatter(city_data_df[\"Lat\"], city_data_df[\"Humidity\"], edgecolors=\"black\")\n",
    "\n",
    "# Incorporate the other graph properties\n",
    "plt.title(\"City Latitude vs. Humidity (02/12/2023)\")\n",
    "plt.xlabel(\"Latitude\")\n",
    "plt.ylabel(\"Humidity (%)\")\n",
    "plt.grid(True)\n",
    "\n",
    "# Save the figure\n",
    "plt.savefig(\"output_data/Fig2.png\")\n",
    "\n",
    "# Show plot\n",
    "plt.show()"
   ]
  },
  {
   "cell_type": "markdown",
   "metadata": {},
   "source": [
    "#### Latitude Vs. Cloudiness"
   ]
  },
  {
   "cell_type": "code",
   "execution_count": 10,
   "metadata": {},
   "outputs": [
    {
     "data": {
      "image/png": "[encoded data removed]",
      "text/plain": [
       "<Figure size 432x288 with 1 Axes>"
      ]
     },
     "metadata": {
      "needs_background": "light"
     },
     "output_type": "display_data"
    }
   ],
   "source": [
    "# Build the scatter plots for latitude vs. cloudiness\n",
    "plt.scatter(city_data_df[\"Lat\"], city_data_df[\"Cloudiness\"], edgecolors=\"black\")\n",
    "\n",
    "# Incorporate the other graph properties\n",
    "plt.title(\"City Latitude vs. Cloudiness (%s)\" % time.strftime(\"%x\"))\n",
    "plt.xlabel(\"Latitude\")\n",
    "plt.ylabel(\"Cloudiness (%)\")\n",
    "plt.grid(True)\n",
    "\n",
    "# Save the figure\n",
    "plt.savefig(\"output_data/Fig3.png\")\n",
    "\n",
    "# Show plot\n",
    "plt.show()"
   ]
  },
  {
   "cell_type": "markdown",
   "metadata": {},
   "source": [
    "#### Latitude vs. Wind Speed Plot"
   ]
  },
  {
   "cell_type": "code",
   "execution_count": 11,
   "metadata": {},
   "outputs": [
    {
     "data": {
      "image/png": "[encoded data removed]",
      "text/plain": [
       "<Figure size 432x288 with 1 Axes>"
      ]
     },
     "metadata": {
      "needs_background": "light"
     },
     "output_type": "display_data"
    }
   ],
   "source": [
    "# Build the scatter plots for latitude vs. wind speed\n",
    "plt.scatter(city_data_df[\"Lat\"], city_data_df[\"Wind Speed\"], edgecolors=\"black\")\n",
    "\n",
    "# Incorporate the other graph properties\n",
    "plt.title(\"City Latitude vs. Wind Speed\")\n",
    "plt.xlabel(\"Latitude\")\n",
    "plt.ylabel(\"Wind Speed (mph)\")\n",
    "plt.grid(True)\n",
    "\n",
    "# Save the figure\n",
    "plt.savefig(\"output_data/Fig4.png\")\n",
    "\n",
    "# Show plot\n",
    "plt.show()"
   ]
  },
  {
   "cell_type": "markdown",
   "metadata": {},
   "source": [
    "---\n",
    "\n",
    "## Requirement 2: Compute Linear Regression for Each Relationship\n"
   ]
  },
  {
   "cell_type": "code",
   "execution_count": 12,
   "metadata": {},
   "outputs": [],
   "source": [
    "# Define a function to create Linear Regression plots\n",
    "\n",
    "def plot_linear_regression(x, y, title, xlabel, ylabel, text_coordinates):\n",
    "    slope, intercept, r_value, p_value, std_err = linregress(x, y)\n",
    "    regression = x * slope + intercept\n",
    "    line_eq = \"y = \" + str(round(slope,2)) + \"x + \" + str(round(intercept,2))\n",
    "    plt.scatter(x, y)\n",
    "    plt.plot(x, regression, \"red\")\n",
    "    plt.annotate(line_eq, text_coordinates, fontsize=15, color=\"red\")\n",
    "    plt.title(title)\n",
    "    plt.xlabel(xlabel)\n",
    "    plt.ylabel(ylabel)\n",
    "    print(f\"The r-value is: {r_value}\")\n",
    "    plt.show()"
   ]
  },
  {
   "cell_type": "code",
   "execution_count": 13,
   "metadata": {},
   "outputs": [
    {
     "data": {
      "text/html": [
       "<div>\n",
       "<style scoped>\n",
       "    .dataframe tbody tr th:only-of-type {\n",
       "        vertical-align: middle;\n",
       "    }\n",
       "\n",
       "    .dataframe tbody tr th {\n",
       "        vertical-align: top;\n",
       "    }\n",
       "\n",
       "    .dataframe thead th {\n",
       "        text-align: right;\n",
       "    }\n",
       "</style>\n",
       "<table border=\"1\" class=\"dataframe\">\n",
       "  <thead>\n",
       "    <tr style=\"text-align: right;\">\n",
       "      <th></th>\n",
       "      <th>City</th>\n",
       "      <th>Lat</th>\n",
       "      <th>Lng</th>\n",
       "      <th>Max Temp</th>\n",
       "      <th>Humidity</th>\n",
       "      <th>Cloudiness</th>\n",
       "      <th>Wind Speed</th>\n",
       "      <th>Country</th>\n",
       "      <th>Date</th>\n",
       "    </tr>\n",
       "    <tr>\n",
       "      <th>City_ID</th>\n",
       "      <th></th>\n",
       "      <th></th>\n",
       "      <th></th>\n",
       "      <th></th>\n",
       "      <th></th>\n",
       "      <th></th>\n",
       "      <th></th>\n",
       "      <th></th>\n",
       "      <th></th>\n",
       "    </tr>\n",
       "  </thead>\n",
       "  <tbody>\n",
       "    <tr>\n",
       "      <th>0</th>\n",
       "      <td>nangong</td>\n",
       "      <td>37.3581</td>\n",
       "      <td>115.3744</td>\n",
       "      <td>36.19</td>\n",
       "      <td>51</td>\n",
       "      <td>13</td>\n",
       "      <td>2.57</td>\n",
       "      <td>CN</td>\n",
       "      <td>1676336040</td>\n",
       "    </tr>\n",
       "    <tr>\n",
       "      <th>2</th>\n",
       "      <td>onega</td>\n",
       "      <td>63.9061</td>\n",
       "      <td>38.1404</td>\n",
       "      <td>28.35</td>\n",
       "      <td>91</td>\n",
       "      <td>100</td>\n",
       "      <td>17.36</td>\n",
       "      <td>RU</td>\n",
       "      <td>1676336040</td>\n",
       "    </tr>\n",
       "    <tr>\n",
       "      <th>5</th>\n",
       "      <td>raymond</td>\n",
       "      <td>43.9015</td>\n",
       "      <td>-70.4703</td>\n",
       "      <td>34.72</td>\n",
       "      <td>75</td>\n",
       "      <td>100</td>\n",
       "      <td>2.57</td>\n",
       "      <td>US</td>\n",
       "      <td>1676336041</td>\n",
       "    </tr>\n",
       "    <tr>\n",
       "      <th>6</th>\n",
       "      <td>cayenne</td>\n",
       "      <td>4.9333</td>\n",
       "      <td>-52.3333</td>\n",
       "      <td>75.24</td>\n",
       "      <td>94</td>\n",
       "      <td>100</td>\n",
       "      <td>2.30</td>\n",
       "      <td>GF</td>\n",
       "      <td>1676335881</td>\n",
       "    </tr>\n",
       "    <tr>\n",
       "      <th>8</th>\n",
       "      <td>upernavik</td>\n",
       "      <td>72.7868</td>\n",
       "      <td>-56.1549</td>\n",
       "      <td>-27.81</td>\n",
       "      <td>97</td>\n",
       "      <td>35</td>\n",
       "      <td>1.79</td>\n",
       "      <td>GL</td>\n",
       "      <td>1676335555</td>\n",
       "    </tr>\n",
       "  </tbody>\n",
       "</table>\n",
       "</div>"
      ],
      "text/plain": [
       "              City      Lat       Lng  Max Temp  Humidity  Cloudiness  \\\n",
       "City_ID                                                                 \n",
       "0          nangong  37.3581  115.3744     36.19        51          13   \n",
       "2            onega  63.9061   38.1404     28.35        91         100   \n",
       "5          raymond  43.9015  -70.4703     34.72        75         100   \n",
       "6          cayenne   4.9333  -52.3333     75.24        94         100   \n",
       "8        upernavik  72.7868  -56.1549    -27.81        97          35   \n",
       "\n",
       "         Wind Speed Country        Date  \n",
       "City_ID                                  \n",
       "0              2.57      CN  1676336040  \n",
       "2             17.36      RU  1676336040  \n",
       "5              2.57      US  1676336041  \n",
       "6              2.30      GF  1676335881  \n",
       "8              1.79      GL  1676335555  "
      ]
     },
     "execution_count": 13,
     "metadata": {},
     "output_type": "execute_result"
    }
   ],
   "source": [
    "# Create a DataFrame with the Northern Hemisphere data (Latitude >= 0)\n",
    "northern_hemi_df = city_data_df[city_data_df['Lat'] >= 0]\n",
    "\n",
    "# Display sample data\n",
    "northern_hemi_df.head()"
   ]
  },
  {
   "cell_type": "code",
   "execution_count": 14,
   "metadata": {},
   "outputs": [
    {
     "data": {
      "text/html": [
       "<div>\n",
       "<style scoped>\n",
       "    .dataframe tbody tr th:only-of-type {\n",
       "        vertical-align: middle;\n",
       "    }\n",
       "\n",
       "    .dataframe tbody tr th {\n",
       "        vertical-align: top;\n",
       "    }\n",
       "\n",
       "    .dataframe thead th {\n",
       "        text-align: right;\n",
       "    }\n",
       "</style>\n",
       "<table border=\"1\" class=\"dataframe\">\n",
       "  <thead>\n",
       "    <tr style=\"text-align: right;\">\n",
       "      <th></th>\n",
       "      <th>City</th>\n",
       "      <th>Lat</th>\n",
       "      <th>Lng</th>\n",
       "      <th>Max Temp</th>\n",
       "      <th>Humidity</th>\n",
       "      <th>Cloudiness</th>\n",
       "      <th>Wind Speed</th>\n",
       "      <th>Country</th>\n",
       "      <th>Date</th>\n",
       "    </tr>\n",
       "    <tr>\n",
       "      <th>City_ID</th>\n",
       "      <th></th>\n",
       "      <th></th>\n",
       "      <th></th>\n",
       "      <th></th>\n",
       "      <th></th>\n",
       "      <th></th>\n",
       "      <th></th>\n",
       "      <th></th>\n",
       "      <th></th>\n",
       "    </tr>\n",
       "  </thead>\n",
       "  <tbody>\n",
       "    <tr>\n",
       "      <th>1</th>\n",
       "      <td>mataura</td>\n",
       "      <td>-46.1927</td>\n",
       "      <td>168.8643</td>\n",
       "      <td>77.52</td>\n",
       "      <td>28</td>\n",
       "      <td>0</td>\n",
       "      <td>4.38</td>\n",
       "      <td>NZ</td>\n",
       "      <td>1676335842</td>\n",
       "    </tr>\n",
       "    <tr>\n",
       "      <th>3</th>\n",
       "      <td>ushuaia</td>\n",
       "      <td>-54.8000</td>\n",
       "      <td>-68.3000</td>\n",
       "      <td>40.66</td>\n",
       "      <td>87</td>\n",
       "      <td>100</td>\n",
       "      <td>10.36</td>\n",
       "      <td>AR</td>\n",
       "      <td>1676335793</td>\n",
       "    </tr>\n",
       "    <tr>\n",
       "      <th>4</th>\n",
       "      <td>rikitea</td>\n",
       "      <td>-23.1203</td>\n",
       "      <td>-134.9692</td>\n",
       "      <td>79.45</td>\n",
       "      <td>68</td>\n",
       "      <td>100</td>\n",
       "      <td>5.77</td>\n",
       "      <td>PF</td>\n",
       "      <td>1676335767</td>\n",
       "    </tr>\n",
       "    <tr>\n",
       "      <th>7</th>\n",
       "      <td>maceio</td>\n",
       "      <td>-9.6658</td>\n",
       "      <td>-35.7353</td>\n",
       "      <td>76.44</td>\n",
       "      <td>88</td>\n",
       "      <td>0</td>\n",
       "      <td>5.75</td>\n",
       "      <td>BR</td>\n",
       "      <td>1676336041</td>\n",
       "    </tr>\n",
       "    <tr>\n",
       "      <th>12</th>\n",
       "      <td>cidreira</td>\n",
       "      <td>-30.1811</td>\n",
       "      <td>-50.2056</td>\n",
       "      <td>77.76</td>\n",
       "      <td>83</td>\n",
       "      <td>0</td>\n",
       "      <td>17.43</td>\n",
       "      <td>BR</td>\n",
       "      <td>1676335861</td>\n",
       "    </tr>\n",
       "  </tbody>\n",
       "</table>\n",
       "</div>"
      ],
      "text/plain": [
       "             City      Lat       Lng  Max Temp  Humidity  Cloudiness  \\\n",
       "City_ID                                                                \n",
       "1         mataura -46.1927  168.8643     77.52        28           0   \n",
       "3         ushuaia -54.8000  -68.3000     40.66        87         100   \n",
       "4         rikitea -23.1203 -134.9692     79.45        68         100   \n",
       "7          maceio  -9.6658  -35.7353     76.44        88           0   \n",
       "12       cidreira -30.1811  -50.2056     77.76        83           0   \n",
       "\n",
       "         Wind Speed Country        Date  \n",
       "City_ID                                  \n",
       "1              4.38      NZ  1676335842  \n",
       "3             10.36      AR  1676335793  \n",
       "4              5.77      PF  1676335767  \n",
       "7              5.75      BR  1676336041  \n",
       "12            17.43      BR  1676335861  "
      ]
     },
     "execution_count": 14,
     "metadata": {},
     "output_type": "execute_result"
    }
   ],
   "source": [
    "# Create a DataFrame with the Southern Hemisphere data (Latitude < 0)\n",
    "southern_hemi_df = city_data_df[city_data_df['Lat'] < 0]\n",
    "\n",
    "# Display sample data\n",
    "southern_hemi_df.head()"
   ]
  },
  {
   "cell_type": "markdown",
   "metadata": {},
   "source": [
    "###  Temperature vs. Latitude Linear Regression Plot"
   ]
  },
  {
   "cell_type": "code",
   "execution_count": 15,
   "metadata": {},
   "outputs": [
    {
     "name": "stdout",
     "output_type": "stream",
     "text": [
      "The r-value is: -0.864204908738266\n"
     ]
    },
    {
     "data": {
      "image/png": "[encoded data removed]",
      "text/plain": [
       "<Figure size 432x288 with 1 Axes>"
      ]
     },
     "metadata": {
      "needs_background": "light"
     },
     "output_type": "display_data"
    }
   ],
   "source": [
    "# Linear regression on Northern Hemisphere\n",
    "x = northern_hemi_df[\"Lat\"]\n",
    "y = northern_hemi_df[\"Max Temp\"]\n",
    "plot_linear_regression(x, y, \"\", \"Latitude\", \"Max Temp (F)\",(10,-20))\n"
   ]
  },
  {
   "cell_type": "code",
   "execution_count": 16,
   "metadata": {},
   "outputs": [
    {
     "name": "stdout",
     "output_type": "stream",
     "text": [
      "The r-value is: 0.3876956668325025\n"
     ]
    },
    {
     "data": {
      "image/png": "[encoded data removed]",
      "text/plain": [
       "<Figure size 432x288 with 1 Axes>"
      ]
     },
     "metadata": {
      "needs_background": "light"
     },
     "output_type": "display_data"
    }
   ],
   "source": [
    "# Linear regression on Southern Hemisphere\n",
    "x = southern_hemi_df['Lat']\n",
    "y = southern_hemi_df['Max Temp']\n",
    "\n",
    "plot_linear_regression(x, y, \"\",'Latitude', 'Max Temp (F)',(-50,90))"
   ]
  },
  {
   "cell_type": "markdown",
   "metadata": {},
   "source": [
    "**Discussion about the linear relationship:** The linear regression line explains more than 80% of the relationships between Max Temp and Latitude in Northern Hemisphere so Max Temp can be forecasted by Latitude but it is not as clear in Southern Hemisphere"
   ]
  },
  {
   "cell_type": "markdown",
   "metadata": {},
   "source": [
    "### Humidity vs. Latitude Linear Regression Plot"
   ]
  },
  {
   "cell_type": "code",
   "execution_count": 17,
   "metadata": {},
   "outputs": [
    {
     "name": "stdout",
     "output_type": "stream",
     "text": [
      "The r-value is: 0.37047400033187733\n"
     ]
    },
    {
     "data": {
      "image/png": "[encoded data removed]",
      "text/plain": [
       "<Figure size 432x288 with 1 Axes>"
      ]
     },
     "metadata": {
      "needs_background": "light"
     },
     "output_type": "display_data"
    }
   ],
   "source": [
    "# Northern Hemisphere\n",
    "x = northern_hemi_df['Lat']\n",
    "y = northern_hemi_df['Humidity']\n",
    "\n",
    "plot_linear_regression(x, y, \"\", 'Latitude', 'Humidity (%)',(40,10))\n"
   ]
  },
  {
   "cell_type": "code",
   "execution_count": 18,
   "metadata": {},
   "outputs": [
    {
     "name": "stdout",
     "output_type": "stream",
     "text": [
      "The r-value is: 0.31671989284219937\n"
     ]
    },
    {
     "data": {
      "image/png": "[encoded data removed]",
      "text/plain": [
       "<Figure size 432x288 with 1 Axes>"
      ]
     },
     "metadata": {
      "needs_background": "light"
     },
     "output_type": "display_data"
    }
   ],
   "source": [
    "# Southern Hemisphere\n",
    "x = southern_hemi_df['Lat']\n",
    "y = southern_hemi_df['Humidity']\n",
    "\n",
    "plot_linear_regression(x, y, \"\", 'Latitude', 'Humidity (%)',(-20,40))\n"
   ]
  },
  {
   "cell_type": "markdown",
   "metadata": {},
   "source": [
    "**Discussion about the linear relationship:** There is a positive linear relationship in both hemispheres but with a low proportion of explanation in the variables"
   ]
  },
  {
   "cell_type": "markdown",
   "metadata": {},
   "source": [
    "### Cloudiness vs. Latitude Linear Regression Plot"
   ]
  },
  {
   "cell_type": "code",
   "execution_count": 19,
   "metadata": {},
   "outputs": [
    {
     "name": "stdout",
     "output_type": "stream",
     "text": [
      "The r-value is: 0.27049291846806417\n"
     ]
    },
    {
     "data": {
      "image/png": "[encoded data removed]",
      "text/plain": [
       "<Figure size 432x288 with 1 Axes>"
      ]
     },
     "metadata": {
      "needs_background": "light"
     },
     "output_type": "display_data"
    }
   ],
   "source": [
    "# Northern Hemisphere\n",
    "x = northern_hemi_df['Lat']\n",
    "y = northern_hemi_df['Cloudiness']\n",
    "\n",
    "plot_linear_regression(x, y, \"\",'Latitude','Cloudiness (%)',(10,60))\n"
   ]
  },
  {
   "cell_type": "code",
   "execution_count": 20,
   "metadata": {},
   "outputs": [
    {
     "name": "stdout",
     "output_type": "stream",
     "text": [
      "The r-value is: 0.4436890964982869\n"
     ]
    },
    {
     "data": {
      "image/png": "[encoded data removed]",
      "text/plain": [
       "<Figure size 432x288 with 1 Axes>"
      ]
     },
     "metadata": {
      "needs_background": "light"
     },
     "output_type": "display_data"
    }
   ],
   "source": [
    "# Southern Hemisphere\n",
    "x = southern_hemi_df['Lat']\n",
    "y = southern_hemi_df['Cloudiness']\n",
    "\n",
    "plot_linear_regression(x, y, \"\",'Latitude','Cloudiness (%)',(-50,20))\n"
   ]
  },
  {
   "cell_type": "markdown",
   "metadata": {},
   "source": [
    "**Discussion about the linear relationship:** There is a positive linear relationship in both hemispheres but with a low proportion of explanation in the variables"
   ]
  },
  {
   "cell_type": "markdown",
   "metadata": {},
   "source": [
    "### Wind Speed vs. Latitude Linear Regression Plot"
   ]
  },
  {
   "cell_type": "code",
   "execution_count": 21,
   "metadata": {},
   "outputs": [
    {
     "name": "stdout",
     "output_type": "stream",
     "text": [
      "The r-value is: 0.05654088718934975\n"
     ]
    },
    {
     "data": {
      "image/png": "[encoded data removed]",
      "text/plain": [
       "<Figure size 432x288 with 1 Axes>"
      ]
     },
     "metadata": {
      "needs_background": "light"
     },
     "output_type": "display_data"
    }
   ],
   "source": [
    "# Northern Hemisphere\n",
    "x = northern_hemi_df['Lat']\n",
    "y = northern_hemi_df['Wind Speed']\n",
    "\n",
    "plot_linear_regression(x, y, \"\",'Latitude', 'Wind Speed (mph)',(10,35))\n"
   ]
  },
  {
   "cell_type": "code",
   "execution_count": 22,
   "metadata": {},
   "outputs": [
    {
     "name": "stdout",
     "output_type": "stream",
     "text": [
      "The r-value is: -0.37015873822145057\n"
     ]
    },
    {
     "data": {
      "image/png": "[encoded data removed]",
      "text/plain": [
       "<Figure size 432x288 with 1 Axes>"
      ]
     },
     "metadata": {
      "needs_background": "light"
     },
     "output_type": "display_data"
    }
   ],
   "source": [
    "# Southern Hemisphere\n",
    "x = southern_hemi_df['Lat']\n",
    "y = southern_hemi_df['Wind Speed']\n",
    "\n",
    "plot_linear_regression(x, y, \"\",'Latitude', 'Wind Speed (mph)',(-50,15))\n"
   ]
  },
  {
   "cell_type": "markdown",
   "metadata": {},
   "source": [
    "**Discussion about the linear relationship:** There is a very low level of explanation of these variables in Northern hemisphere, it is higher in Southern Hemisphere but still under 50-60% that may be an acceptable level."
   ]
  },
  {
   "cell_type": "code",
   "execution_count": null,
   "metadata": {},
   "outputs": [],
   "source": []
  }
 ],
 "metadata": {
  "anaconda-cloud": {},
  "kernel_info": {
   "name": "python3"
  },
  "kernelspec": {
   "display_name": "Python [conda env:PythonData]",
   "language": "python",
   "name": "conda-env-PythonData-py"
  },
  "language_info": {
   "codemirror_mode": {
    "name": "ipython",
    "version": 3
   },
   "file_extension": ".py",
   "mimetype": "text/x-python",
   "name": "python",
   "nbconvert_exporter": "python",
   "pygments_lexer": "ipython3",
   "version": "3.7.7"
  },
  "latex_envs": {
   "LaTeX_envs_menu_present": true,
   "autoclose": false,
   "autocomplete": true,
   "bibliofile": "biblio.bib",
   "cite_by": "apalike",
   "current_citInitial": 1,
   "eqLabelWithNumbers": true,
   "eqNumInitial": 1,
   "hotkeys": {
    "equation": "Ctrl-E",
    "itemize": "Ctrl-I"
   },
   "labels_anchors": false,
   "latex_user_defs": false,
   "report_style_numbering": false,
   "user_envs_cfg": false
  },
  "nteract": {
   "version": "0.12.3"
  }
 },
 "nbformat": 4,
 "nbformat_minor": 4
}
